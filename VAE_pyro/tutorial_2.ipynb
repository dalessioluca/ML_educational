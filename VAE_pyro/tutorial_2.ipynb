{
 "cells": [
  {
   "cell_type": "markdown",
   "metadata": {},
   "source": [
    "## Toin coss model with Pyro"
   ]
  },
  {
   "cell_type": "code",
   "execution_count": 1,
   "metadata": {},
   "outputs": [
    {
     "name": "stdout",
     "output_type": "stream",
     "text": [
      "....................\n",
      "based on the data and our prior belief, the fairness of the coin is 0.587 +- 0.093\n"
     ]
    }
   ],
   "source": [
    "from __future__ import print_function\n",
    "import math\n",
    "import os\n",
    "import torch\n",
    "import torch.distributions.constraints as constraints\n",
    "import pyro\n",
    "from pyro.optim import Adam\n",
    "from pyro.infer import SVI, Trace_ELBO\n",
    "import pyro.distributions as dist\n",
    "\n",
    "# this is for running the notebook in our testing framework\n",
    "smoke_test = ('CI' in os.environ)\n",
    "n_steps = 2 if smoke_test else 2000\n",
    "\n",
    "# enable validation (e.g. validate parameters of distributions)\n",
    "pyro.enable_validation(True)\n",
    "\n",
    "# clear the param store in case we're in a REPL\n",
    "pyro.clear_param_store()\n",
    "\n",
    "# create some data with 6 observed heads and 4 observed tails\n",
    "data = []\n",
    "for _ in range(6):\n",
    "    data.append(torch.tensor(1.0))\n",
    "for _ in range(4):\n",
    "    data.append(torch.tensor(0.0))\n",
    "\n",
    "def model(data):\n",
    "    # define the hyperparameters that control the beta prior\n",
    "    alpha0 = torch.tensor(1.0)\n",
    "    beta0 = torch.tensor(1.0)\n",
    "    # sample f from the beta prior\n",
    "    f = pyro.sample(\"latent_fairness\", dist.Beta(alpha0, beta0))\n",
    "    # loop over the observed data\n",
    "    for i in range(len(data)):\n",
    "        # observe datapoint i using the bernoulli likelihood\n",
    "        pyro.sample(\"obs_{}\".format(i), dist.Bernoulli(f), obs=data[i])\n",
    "\n",
    "def guide(data):\n",
    "    # register the two variational parameters with Pyro\n",
    "    # - both parameters will have initial value 15.0.\n",
    "    # - because we invoke constraints.positive, the optimizer\n",
    "    # will take gradients on the unconstrained parameters\n",
    "    # (which are related to the constrained parameters by a log)\n",
    "    alpha_q = pyro.param(\"alpha_q\", torch.tensor(15.0),\n",
    "                         constraint=constraints.positive)\n",
    "    beta_q = pyro.param(\"beta_q\", torch.tensor(15.0),\n",
    "                        constraint=constraints.positive)\n",
    "    # sample latent_fairness from the distribution Beta(alpha_q, beta_q)\n",
    "    pyro.sample(\"latent_fairness\", dist.Beta(alpha_q, beta_q))\n",
    "\n",
    "# setup the optimizer\n",
    "adam_params = {\"lr\": 0.0005, \"betas\": (0.90, 0.999)}\n",
    "optimizer = Adam(adam_params)\n",
    "\n",
    "# setup the inference algorithm\n",
    "svi = SVI(model, guide, optimizer, loss=Trace_ELBO())\n",
    "\n",
    "# do gradient steps\n",
    "for step in range(n_steps):\n",
    "    svi.step(data)\n",
    "    if step % 100 == 0:\n",
    "        print('.', end='')\n",
    "\n",
    "# grab the learned variational parameters\n",
    "alpha_q = pyro.param(\"alpha_q\").item()\n",
    "beta_q = pyro.param(\"beta_q\").item()\n",
    "\n",
    "# here we use some facts about the beta distribution\n",
    "# compute the inferred mean of the coin's fairness\n",
    "inferred_mean = alpha_q / (alpha_q + beta_q)\n",
    "# compute inferred standard deviation\n",
    "factor = beta_q / (alpha_q * (1.0 + alpha_q + beta_q))\n",
    "inferred_std = inferred_mean * math.sqrt(factor)\n",
    "\n",
    "print(\"\\nbased on the data and our prior belief, the fairness \" +\n",
    "      \"of the coin is %.3f +- %.3f\" % (inferred_mean, inferred_std))"
   ]
  },
  {
   "cell_type": "markdown",
   "metadata": {},
   "source": [
    "Note that:\n",
    "1. each observation (obs_i) is assigned a unique name (see model)\n",
    "2. model and guide have the same signature\n",
    "3. the name of pyro.sample (latent_fairness) is the same in model and guide"
   ]
  },
  {
   "cell_type": "code",
   "execution_count": 2,
   "metadata": {},
   "outputs": [],
   "source": [
    "prior=dist.Beta(1,1)\n",
    "posterior=dist.Beta(pyro.param(\"alpha_q\").item(),pyro.param(\"beta_q\").item())"
   ]
  },
  {
   "cell_type": "code",
   "execution_count": 3,
   "metadata": {},
   "outputs": [
    {
     "data": {
      "text/plain": [
       "(array([ 995.,  990.,  965., 1041.,  982., 1040., 1015.,  988.,  971.,\n",
       "        1013.]),\n",
       " array([0. , 0.1, 0.2, 0.3, 0.4, 0.5, 0.6, 0.7, 0.8, 0.9, 1. ]),\n",
       " <a list of 10 Patch objects>)"
      ]
     },
     "metadata": {},
     "output_type": "display_data"
    },
    {
     "data": {
      "text/plain": [
       "(array([   0.,    0.,    8.,  219., 1591., 3671., 3353., 1103.,   55.,\n",
       "           0.]),\n",
       " array([0. , 0.1, 0.2, 0.3, 0.4, 0.5, 0.6, 0.7, 0.8, 0.9, 1. ]),\n",
       " <a list of 10 Patch objects>)"
      ]
     },
     "metadata": {},
     "output_type": "display_data"
    },
    {
     "data": {
      "image/png": "[encoded data removed]",
      "text/plain": [
       "<Figure size 432x288 with 1 Axes>"
      ]
     },
     "metadata": {},
     "output_type": "display_data"
    }
   ],
   "source": [
    "import matplotlib.pyplot as plt\n",
    "%matplotlib inline\n",
    "sample = posterior.sample(torch.Size([10000]))\n",
    "sample2 = prior.sample(torch.Size([10000]))\n",
    "display(plt.hist(sample2,range=(0,1),bins=10))\n",
    "display(plt.hist(sample,range=(0,1),bins=10))"
   ]
  },
  {
   "cell_type": "markdown",
   "metadata": {},
   "source": [
    "## Conditional independence and parallelism"
   ]
  },
  {
   "cell_type": "code",
   "execution_count": 4,
   "metadata": {},
   "outputs": [
    {
     "name": "stdout",
     "output_type": "stream",
     "text": [
      "<class 'torch.Tensor'>\n",
      "<class 'list'>\n"
     ]
    }
   ],
   "source": [
    "# Serial version, do not leverage conditional independence\n",
    "def model1(data):\n",
    "    f = pyro.sample(\"latent_fairness\", dist.Beta(torch.tensor(1.0),torch.tensor(1.0)))\n",
    "    for i in range(len(data)):\n",
    "        pyro.sample(\"obs_{}\".format(i), dist.Bernoulli(f), obs=data[i])\n",
    "\n",
    "# Serial version with conditional independence\n",
    "def model2(data):    \n",
    "    f = pyro.sample(\"latent_fairness\", dist.Beta(torch.tensor(1.0),torch.tensor(1.0)))\n",
    "    for i in pyro.irange(\"data_loop\", len(data)):\n",
    "        pyro.sample(\"obs_{}\".format(i), dist.Bernoulli(f), obs=data[i])\n",
    "\n",
    "# Parallel version conditional independence\n",
    "def model3(data):\n",
    "    f = pyro.sample(\"latent_fairness\", dist.Beta(torch.tensor(1.0),torch.tensor(1.0)))\n",
    "    with pyro.iarange('observe_data'):\n",
    "        pyro.sample('obs', dist.Bernoulli(f), obs=data)\n",
    "        \n",
    "# Generate the data\n",
    "data_list_of_tensor = []\n",
    "for _ in range(9):\n",
    "    data_list_of_tensor.append(torch.tensor(1.0))\n",
    "for _ in range(1):\n",
    "    data_list_of_tensor.append(torch.tensor(0.0))\n",
    "    \n",
    "data_tensor = torch.zeros(10)\n",
    "data_tensor[0:9] = torch.ones(1)\n",
    "\n",
    "print(type(data_tensor))\n",
    "print(type(data_list_of_tensor))"
   ]
  },
  {
   "cell_type": "code",
   "execution_count": 5,
   "metadata": {},
   "outputs": [
    {
     "name": "stdout",
     "output_type": "stream",
     "text": [
      "....................Estimated alpha,beta= 26.01880645751953 5.4173455238342285\n",
      "....................Estimated alpha,beta= 23.322593688964844 4.380270957946777\n",
      "....................Estimated alpha,beta= 20.175762176513672 3.729942798614502\n",
      "result = 0.828 +- 0.066\n",
      "result = 0.842 +- 0.068\n",
      "result = 0.844 +- 0.073\n"
     ]
    }
   ],
   "source": [
    "def compute_beta_prop(alpha,beta):\n",
    "    mean = alpha / (alpha + beta)\n",
    "    fact = beta / (alpha * (1.0 + alpha + beta))\n",
    "    std  = mean * math.sqrt(fact)\n",
    "    print(\"result = %.3f +- %.3f\" % (mean,std))\n",
    "\n",
    "    \n",
    "n_step=2000\n",
    "\n",
    "svi1 = SVI(model1, guide, optimizer, loss=Trace_ELBO())\n",
    "for step in range(n_steps):\n",
    "    svi1.step(data_list_of_tensor)\n",
    "    if step % 100 == 0:\n",
    "        print('.', end='')\n",
    "alpha_1 = pyro.param(\"alpha_q\").item()\n",
    "beta_1  = pyro.param(\"beta_q\").item()\n",
    "print('Estimated alpha,beta=',alpha_1,beta_1)\n",
    "\n",
    "\n",
    "svi2 = SVI(model2, guide, optimizer, loss=Trace_ELBO())\n",
    "for step in range(n_steps):\n",
    "    svi2.step(data_list_of_tensor)\n",
    "    if step % 100 == 0:\n",
    "        print('.', end='')\n",
    "alpha_2 = pyro.param(\"alpha_q\").item()\n",
    "beta_2  = pyro.param(\"beta_q\").item()\n",
    "print('Estimated alpha,beta=',alpha_2,beta_2)\n",
    "\n",
    "svi3 = SVI(model3, guide, optimizer, loss=Trace_ELBO())\n",
    "for step in range(n_steps):\n",
    "    svi3.step(data_tensor)\n",
    "    if step % 100 == 0:\n",
    "        print('.', end='')\n",
    "alpha_3 = pyro.param(\"alpha_q\").item()\n",
    "beta_3  = pyro.param(\"beta_q\").item()\n",
    "print('Estimated alpha,beta=',alpha_3,beta_3)\n",
    "\n",
    "compute_beta_prop(alpha_1,beta_1)\n",
    "compute_beta_prop(alpha_2,beta_2)\n",
    "compute_beta_prop(alpha_3,beta_3)"
   ]
  },
  {
   "cell_type": "code",
   "execution_count": null,
   "metadata": {},
   "outputs": [],
   "source": [
    "\n"
   ]
  }
 ],
 "metadata": {
  "kernelspec": {
   "display_name": "Python [conda env:pyro]",
   "language": "python",
   "name": "conda-env-pyro-py"
  },
  "language_info": {
   "codemirror_mode": {
    "name": "ipython",
    "version": 3
   },
   "file_extension": ".py",
   "mimetype": "text/x-python",
   "name": "python",
   "nbconvert_exporter": "python",
   "pygments_lexer": "ipython3",
   "version": "3.6.5"
  }
 },
 "nbformat": 4,
 "nbformat_minor": 2
}
