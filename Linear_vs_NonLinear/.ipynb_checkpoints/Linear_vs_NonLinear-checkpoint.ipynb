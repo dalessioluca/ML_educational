{
 "cells": [
  {
   "cell_type": "markdown",
   "metadata": {},
   "source": [
    "## Linear vs Non Linear"
   ]
  },
  {
   "cell_type": "markdown",
   "metadata": {},
   "source": [
    "Can a Forward NN learn non-linear functions?"
   ]
  },
  {
   "cell_type": "code",
   "execution_count": 1,
   "metadata": {},
   "outputs": [
    {
     "name": "stdout",
     "output_type": "stream",
     "text": [
      "cuda\n",
      "<class 'torch.cuda.FloatTensor'>\n"
     ]
    }
   ],
   "source": [
    "import torch\n",
    "from torch.autograd import Variable\n",
    "import numpy as np\n",
    "import torch.nn.functional as F\n",
    "import torchvision\n",
    "from torchvision import transforms\n",
    "from torchvision.utils import save_image\n",
    "import torch.optim as optim\n",
    "from torch import nn\n",
    "import matplotlib.pyplot as plt\n",
    "%matplotlib inline\n",
    "\n",
    "\n",
    "# Decide if the system has GPUs\n",
    "if torch.cuda.is_available():\n",
    "    device = torch.device('cuda')\n",
    "    dtype = torch.cuda.FloatTensor\n",
    "else:\n",
    "    device = torch.device('cpu')\n",
    "    dtype = torch.FloatTensor\n",
    "\n",
    "print(device)\n",
    "print(dtype)\n",
    "\n",
    "def save_everything(model_object,optimizer_object,filepath):\n",
    "        \"\"\"\n",
    "        Save all the quantities related to model and optimizer\n",
    "        \"\"\"\n",
    "        state = model_object.save_model()\n",
    "        state['optimizer'] = optimizer_object.state_dict()\n",
    "        torch.save(state, filepath)\n",
    "        \n",
    "def load_everything(model_object,optimizer_object,filepath):\n",
    "        \"\"\"\n",
    "        Load all the quantities relateds to the object from file\n",
    "        \"\"\"\n",
    "        state = torch.load(filepath)\n",
    "        model_object.load_model(state)\n",
    "        optimizer_object.load_state_dict(state['optimizer'])\n",
    "\n",
    "def show_batch(images):\n",
    "    \"\"\"\n",
    "    Simple function to show the images\n",
    "    \"\"\"\n",
    "    im = torchvision.utils.make_grid(images)\n",
    "    plt.imshow(np.transpose(im.numpy(), (1, 2, 0)))\n",
    "    \n",
    "def show_names(labels):\n",
    "    labels_dict={\n",
    "        0 : \"Tshirt\",\n",
    "        1 : \"Trouser\",\n",
    "        2 : \"Pullover\",\n",
    "        3 : \"Dress\",\n",
    "        4 : \"Coat\",\n",
    "        5 : \"Sandal\",\n",
    "        6 : \"Shirt\",\n",
    "        7 : \"Sneaker\",\n",
    "        8 : \"Bag\",\n",
    "        9 : \"Ankle boot\"}\n",
    "    names = []\n",
    "    for i in labels:\n",
    "        names.append(labels_dict[i.item()])\n",
    "    print(names)"
   ]
  },
  {
   "cell_type": "code",
   "execution_count": 2,
   "metadata": {
    "collapsed": true
   },
   "outputs": [],
   "source": [
    "class CNNModule(nn.Module):\n",
    "    def __init__(self,criterion):\n",
    "        super().__init__()\n",
    "        \n",
    "        # Auxiliary variables\n",
    "        self.loss_history = []\n",
    "        self.epoch = 0\n",
    "        self.training_time = 0\n",
    "        self.criterion=criterion\n",
    "        \n",
    "        # First Convolution Layer. The new image size remains unchanged:\n",
    "        # Floor[ (28 + 2*padding - kernel_size)/stride + 1 ] = Floor[28+4-5+1] = 28x28 \n",
    "        self.cnn1 = nn.Conv2d(in_channels=1,out_channels=16,kernel_size=5,stride=1,padding=2)\n",
    "        self.relu1=nn.ReLU()\n",
    "        nn.init.xavier_uniform_(self.cnn1.weight)\n",
    "\n",
    "        # The max poll with kernel_size 2 reduces the image to size 14x14\n",
    "        self.maxpool1=nn.MaxPool2d(kernel_size=2)\n",
    "\n",
    "        # Second Convolution Layer. The new image size remains unchanged:\n",
    "        # Floor[ (14 + 2*padding - kernel_size)/stride + 1 ] = Floor[14+4-5+1] = 14x14 \n",
    "        self.cnn2=nn.Conv2d(in_channels=16,out_channels=32,kernel_size=5,stride=1,padding=2)\n",
    "        self.relu2=nn.ReLU()\n",
    "        nn.init.xavier_uniform_(self.cnn2.weight)\n",
    "\n",
    "        # The max poll with kernel_size 2 reduces the image to 7x7\n",
    "        self.maxpool2=nn.MaxPool2d(kernel_size=2)\n",
    "\n",
    "        # The last is a fully connected layer with 7x7xn_channel -> 10\n",
    "        self.fcl=nn.Linear(32*7*7,10)\n",
    "        self.softmax=nn.Softmax(dim=10)\n",
    "    \n",
    "    def forward(self,x):\n",
    "        #First convolution\n",
    "        out=self.cnn1(x)\n",
    "        out=self.relu1(out)\n",
    "        # Max pool\n",
    "        out=self.maxpool1(out)\n",
    "        # Second convolution\n",
    "        out=self.cnn2(out)\n",
    "        out=self.relu2(out)\n",
    "        # Second convolution\n",
    "        out=self.maxpool2(out)\n",
    "        # Flattening\n",
    "        out=out.view(out.size(0),-1)\n",
    "        # Dense lyer\n",
    "        out=self.fcl(out)\n",
    "        out=self.softmax(out)\n",
    "        return out\n",
    "    \n",
    "    def save_model(self):\n",
    "        state={\n",
    "            'state_dict': self.state_dict(),\n",
    "            'loss_history': self.loss_history,\n",
    "            'epoch': self.epoch,\n",
    "            'training_time' : self.training_time\n",
    "        }\n",
    "        return state\n",
    "            \n",
    "    def load_model(self,state):\n",
    "        self.load_state_dict(state['state_dict'])\n",
    "        self.loss_history = state['loss_history']\n",
    "        self.epoch = state['epoch']\n",
    "        self.training_time = state['training_time']\n",
    "    \n",
    "    def compute_loss(self, output, target):\n",
    "        loss = self.criterion(output,target)\n",
    "        return loss\n",
    "        \n",
    "    \n",
    "    def train_one_epoch(self,trainloader):\n",
    "        \n",
    "        tmp = [] \n",
    "        for i, data in enumerate(trainloader, 0): #loop over minibatches\n",
    "            \n",
    "            img, labels  = data\n",
    "            images_in = Variable(img.to(device),requires_grad=False) #put the data on GPU if necessary\n",
    "            \n",
    "            # Run the VAE forward \n",
    "            output = self.forward(images_in)\n",
    "            #print(\"xout\",x_output.dtype)\n",
    "            #print(\"xout\",x_output.device)\n",
    "            \n",
    "            # Compute the loss\n",
    "            loss = self.compute_loss(output,labels.to(device))\n",
    "            #print(\"loss\",loss.dtype)\n",
    "            #print(\"loss\",loss.device)\n",
    "            \n",
    "            # compute the average loss in this epoch\n",
    "            tmp.append(loss.item()) # add the loss to the tmp list\n",
    "            \n",
    "            # For each minibatch set the gradient to zero\n",
    "            optimizer.zero_grad()\n",
    "            loss.backward()  # do backprop and compute all the gradients\n",
    "            optimizer.step() # update the parameters\n",
    "            \n",
    "        # Svae the average loss during the epoch and the final value at the end of epoch\n",
    "        self.loss_history.append(np.mean(tmp))\n",
    "        self.epoch += 1\n",
    "        \n",
    "        \n",
    "    def train(self,trainloader,DELTA_EPOCHS):\n",
    "        import timeit\n",
    "        tic=timeit.default_timer()\n",
    "        \n",
    "        for nn in range(DELTA_EPOCHS):\n",
    "            self.train_one_epoch(trainloader)\n",
    "            print(\"EPOCH loss=\",self.epoch,self.loss_history[-1])\n",
    "        \n",
    "        toc=timeit.default_timer()\n",
    "        self.training_time += toc - tic\n",
    "\n",
    "   "
   ]
  },
  {
   "cell_type": "code",
   "execution_count": 3,
   "metadata": {},
   "outputs": [
    {
     "name": "stdout",
     "output_type": "stream",
     "text": [
      "1 28 28\n",
      "['Ankle boot', 'Pullover', 'Trouser', 'Trouser', 'Shirt', 'Trouser', 'Coat', 'Shirt', 'Sandal', 'Sneaker', 'Coat', 'Sandal', 'Sneaker', 'Dress', 'Coat', 'Trouser', 'Pullover', 'Coat', 'Bag', 'Tshirt', 'Pullover', 'Sandal', 'Sneaker', 'Ankle boot', 'Trouser', 'Coat', 'Shirt', 'Tshirt', 'Ankle boot', 'Dress', 'Bag', 'Bag', 'Dress', 'Dress', 'Bag', 'Tshirt', 'Sneaker', 'Sandal', 'Sneaker', 'Ankle boot', 'Shirt', 'Trouser', 'Dress', 'Sneaker', 'Shirt', 'Sneaker', 'Pullover', 'Trouser', 'Pullover', 'Pullover', 'Coat', 'Coat', 'Sandal', 'Bag', 'Pullover', 'Pullover', 'Bag', 'Coat', 'Bag', 'Tshirt', 'Sneaker', 'Sneaker', 'Bag', 'Sandal']\n"
     ]
    },
    {
     "data": {
      "image/png": "[encoded data removed]",
      "text/plain": [
       "<Figure size 432x288 with 1 Axes>"
      ]
     },
     "metadata": {},
     "output_type": "display_data"
    }
   ],
   "source": [
    "if __name__ == '__main__':\n",
    "    \n",
    "   \n",
    "    BATCH_SIZE = 64\n",
    "\n",
    "    transform = transforms.ToTensor()\n",
    "    #transform=transforms.Compose([transforms.ToTensor(),transforms.Normalize((0.1307,), (0.3081,))])\n",
    "\n",
    "    # Load and transform data\n",
    "    trainset = torchvision.datasets.FashionMNIST('./data', train=True, download=True, transform=transform)\n",
    "    trainloader = torch.utils.data.DataLoader(trainset, batch_size=BATCH_SIZE, shuffle=True)\n",
    "\n",
    "    testset = torchvision.datasets.FashionMNIST('./data', train=False, download=True, transform=transform)\n",
    "    testloader = torch.utils.data.DataLoader(testset, batch_size=BATCH_SIZE, shuffle=False)\n",
    "    \n",
    "    # Visualize the data and extract the image size\n",
    "    images, labels =next(iter(trainloader))\n",
    "    _, n_channel, height, width = images.size()\n",
    "    print(n_channel,height, width)\n",
    "   \n",
    "\n",
    "    # Instanciates the CNN\n",
    "    criterion=nn.CrossEntropyLoss()\n",
    "    cnn = CNNModule(criterion).to(device) #note that here I am creating the model to either gpu or cpu\n",
    "    \n",
    "    # Select the optimizer\n",
    "    #optimizer = optim.Adam(vae.parameters(), lr=0.0001)\n",
    "    #optimizer = optim.RMSprop(vae.parameters())\n",
    "    optimizer=torch.optim.SGD(cnn.parameters(),lr=0.015)\n",
    "    \n",
    "\n",
    "    # Save the same set of test images for testing   \n",
    "    images_test_in, labels_test  = next(iter(testloader))\n",
    "    \n",
    "    # Look at the data\n",
    "    show_batch(images_test_in)\n",
    "    show_names(labels_test)"
   ]
  },
  {
   "cell_type": "code",
   "execution_count": null,
   "metadata": {},
   "outputs": [
    {
     "name": "stderr",
     "output_type": "stream",
     "text": [
      "/home/ldalessi/anaconda3/envs/pyro/lib/python3.6/site-packages/ipykernel/__main__.py:48: UserWarning: Implicit dimension choice for softmax has been deprecated. Change the call to include dim=X as an argument.\n"
     ]
    },
    {
     "name": "stdout",
     "output_type": "stream",
     "text": [
      "EPOCH loss= 41 1.5905239069893924\n",
      "EPOCH loss= 42 1.562415743560425\n",
      "EPOCH loss= 43 1.5570695939094528\n",
      "EPOCH loss= 44 1.5537185370286644\n",
      "EPOCH loss= 45 1.5515965397424027\n",
      "EPOCH loss= 46 1.54972959123949\n",
      "EPOCH loss= 47 1.5481629273784694\n",
      "EPOCH loss= 48 1.5469167738326832\n",
      "EPOCH loss= 49 1.5452489589831468\n"
     ]
    }
   ],
   "source": [
    "    for k in range(4,5):\n",
    "        if(k>0):\n",
    "            load_everything(cnn,optimizer,'./cnn_'+str(k-1)+'.pth')\n",
    "        \n",
    "        cnn.train(trainloader,10)  # train the model for 10 EPOCHS \n",
    "        save_everything(cnn,optimizer,'./cnn_'+str(k)+'.pth')\n",
    "\n",
    "        # Evaluate the accuracy on the test set\n",
    "        with torch.no_grad():\n",
    "            correct=0\n",
    "            total=0\n",
    "            for i, data in enumerate(testloader, 0):\n",
    "                img,labels = data\n",
    "                images_in = Variable(img.to(device),requires_grad=False) \n",
    "                output = cnn(images_in)              \n",
    "                _,predicted=torch.max(output.data,1)\n",
    "                total+=labels.size(0)\n",
    "                correct+=(predicted==labels.to(device)).sum()\n",
    "            accuracy= (100.0* correct)/(total)\n",
    "            print(\"Iteration:\"+str(cnn.epoch)+\"  Loss:\"+str(cnn.loss_history[-1])+\"  Accuracy:\"+str(accuracy.item()))"
   ]
  },
  {
   "cell_type": "code",
   "execution_count": null,
   "metadata": {},
   "outputs": [],
   "source": [
    "print(output.data)\n",
    "print(predicted)"
   ]
  },
  {
   "cell_type": "code",
   "execution_count": null,
   "metadata": {},
   "outputs": [],
   "source": [
    "accuracy.item()\n",
    "cnn.loss_history[-1]"
   ]
  },
  {
   "cell_type": "code",
   "execution_count": null,
   "metadata": {},
   "outputs": [],
   "source": [
    "plt.plot(cnn.loss_history[10:])\n",
    "plt.semilogy(cnn.loss_history[10:])"
   ]
  },
  {
   "cell_type": "code",
   "execution_count": null,
   "metadata": {},
   "outputs": [],
   "source": []
  },
  {
   "cell_type": "code",
   "execution_count": null,
   "metadata": {
    "collapsed": true
   },
   "outputs": [],
   "source": []
  },
  {
   "cell_type": "code",
   "execution_count": null,
   "metadata": {
    "collapsed": true
   },
   "outputs": [],
   "source": []
  },
  {
   "cell_type": "code",
   "execution_count": null,
   "metadata": {
    "collapsed": true
   },
   "outputs": [],
   "source": []
  },
  {
   "cell_type": "code",
   "execution_count": null,
   "metadata": {
    "collapsed": true
   },
   "outputs": [],
   "source": []
  },
  {
   "cell_type": "markdown",
   "metadata": {},
   "source": []
  }
 ],
 "metadata": {
  "kernelspec": {
   "display_name": "Python [conda env:pyro]",
   "language": "python",
   "name": "conda-env-pyro-py"
  },
  "language_info": {
   "codemirror_mode": {
    "name": "ipython",
    "version": 3
   },
   "file_extension": ".py",
   "mimetype": "text/x-python",
   "name": "python",
   "nbconvert_exporter": "python",
   "pygments_lexer": "ipython3",
   "version": "3.6.2"
  }
 },
 "nbformat": 4,
 "nbformat_minor": 2
}
